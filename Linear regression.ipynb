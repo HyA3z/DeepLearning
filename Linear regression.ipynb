{
 "cells": [
  {
   "cell_type": "code",
   "execution_count": 240,
   "id": "e1c195c9",
   "metadata": {},
   "outputs": [],
   "source": [
    "import torch\n",
    "import random"
   ]
  },
  {
   "cell_type": "code",
   "execution_count": 241,
   "id": "8ff6d819",
   "metadata": {},
   "outputs": [],
   "source": [
    "# Get random data"
   ]
  },
  {
   "cell_type": "code",
   "execution_count": 242,
   "id": "058d4c60",
   "metadata": {},
   "outputs": [],
   "source": [
    "def synthetic_data(w, b, num_examples):  #@save\n",
    "    X = torch.normal(0, 1, (num_examples, len(w)))\n",
    "    y = torch.matmul(X, w) + b\n",
    "    y += torch.normal(0, 0.01, y.shape)\n",
    "    return X, y.reshape((-1, 1))"
   ]
  },
  {
   "cell_type": "code",
   "execution_count": 243,
   "id": "aa5d53a8",
   "metadata": {},
   "outputs": [],
   "source": [
    "true_w = torch.tensor([2, -3.4])\n",
    "true_b = 4.2"
   ]
  },
  {
   "cell_type": "code",
   "execution_count": 244,
   "id": "1ef85eb3",
   "metadata": {},
   "outputs": [],
   "source": [
    "features, labels = synthetic_data(true_w, true_b, 1000)"
   ]
  },
  {
   "cell_type": "code",
   "execution_count": 245,
   "id": "957b2d01",
   "metadata": {},
   "outputs": [
    {
     "name": "stdout",
     "output_type": "stream",
     "text": [
      "tensor([-1.4043, -1.5495]) tensor([6.6670])\n"
     ]
    }
   ],
   "source": [
    "print(features[0], labels[0])"
   ]
  },
  {
   "cell_type": "code",
   "execution_count": 246,
   "id": "154b37ce",
   "metadata": {},
   "outputs": [],
   "source": [
    "def data_iter(batch_size, features, labels):\n",
    "    num_example = len(features)\n",
    "    indices = list(range(num_example))\n",
    "    random.shuffle(indices)\n",
    "    for i in range(0, num_example, batch_size):\n",
    "        batch_indices = torch.tensor(indices[i : min(i + batch_size, num_example)])\n",
    "        yield features[batch_indices], labels[batch_indices]"
   ]
  },
  {
   "cell_type": "markdown",
   "id": "e1433140",
   "metadata": {},
   "source": [
    "###  Initial model super parameters"
   ]
  },
  {
   "cell_type": "code",
   "execution_count": 247,
   "id": "3264456c",
   "metadata": {},
   "outputs": [],
   "source": [
    "w = torch.normal(0, 0.01, (2, 1), requires_grad=True)\n",
    "b = torch.zeros(1, requires_grad=True)"
   ]
  },
  {
   "cell_type": "markdown",
   "id": "fb98d63d",
   "metadata": {},
   "source": [
    "### Define model"
   ]
  },
  {
   "cell_type": "code",
   "execution_count": 248,
   "id": "ac3b39e5",
   "metadata": {},
   "outputs": [],
   "source": [
    "def linreg(X, w, b):\n",
    "    return torch.matmul(X, w) + b"
   ]
  },
  {
   "cell_type": "markdown",
   "id": "5e83e3f9",
   "metadata": {},
   "source": [
    "### Loss Function"
   ]
  },
  {
   "cell_type": "code",
   "execution_count": 249,
   "id": "0fe38ca1",
   "metadata": {},
   "outputs": [],
   "source": [
    "def squared_loss(y_hat, y):\n",
    "    return (y_hat - y.reshape(-1, 1)) ** 2 / 2"
   ]
  },
  {
   "cell_type": "markdown",
   "id": "9a1dbce1",
   "metadata": {},
   "source": [
    "### Optimization "
   ]
  },
  {
   "cell_type": "code",
   "execution_count": 250,
   "id": "c9a775b0",
   "metadata": {},
   "outputs": [],
   "source": [
    "def sgd(params, lr, batch_size):\n",
    "    with torch.no_grad():\n",
    "        for param in params:\n",
    "            param -= lr * param.grad / batch_size\n",
    "            param.grad.zero_()\n"
   ]
  },
  {
   "cell_type": "markdown",
   "id": "c94677a9",
   "metadata": {},
   "source": [
    "### Training"
   ]
  },
  {
   "cell_type": "code",
   "execution_count": 251,
   "id": "9efad86c",
   "metadata": {},
   "outputs": [],
   "source": [
    "lr = 0.03\n",
    "num_epochs = 3\n",
    "net = linreg\n",
    "loss = squared_loss\n",
    "batch_size = 10"
   ]
  },
  {
   "cell_type": "code",
   "execution_count": 252,
   "id": "8b1f9299",
   "metadata": {},
   "outputs": [
    {
     "name": "stdout",
     "output_type": "stream",
     "text": [
      "epoch 1, loss0.025095\n",
      "epoch 2, loss0.000087\n",
      "epoch 3, loss0.000049\n"
     ]
    }
   ],
   "source": [
    "for epoch in range(num_epochs):\n",
    "    for X, y in data_iter(batch_size, features, labels):\n",
    "        l = loss(net(X, w, b), y)\n",
    "        l.sum().backward()\n",
    "        sgd([w, b], lr, batch_size)\n",
    "    with torch.no_grad():\n",
    "        train_l = loss(net(features, w, b), labels)\n",
    "        print(f\"epoch {epoch + 1}, loss{float(train_l.mean()):f}\")"
   ]
  },
  {
   "cell_type": "markdown",
   "id": "5af60d79",
   "metadata": {},
   "source": [
    "### Concise Implement"
   ]
  },
  {
   "cell_type": "code",
   "execution_count": 255,
   "id": "c4e591b9",
   "metadata": {},
   "outputs": [],
   "source": [
    "from torch.utils import data\n",
    "from torch import nn"
   ]
  },
  {
   "cell_type": "code",
   "execution_count": 253,
   "id": "c60854b8",
   "metadata": {},
   "outputs": [],
   "source": [
    "true_w = torch.tensor([2, -3.4])\n",
    "truw_b = 4.2\n",
    "features, labels = synthetic_data(true_w, true_b, 1000)"
   ]
  },
  {
   "cell_type": "code",
   "execution_count": 254,
   "id": "fa149531",
   "metadata": {},
   "outputs": [],
   "source": [
    "def load_array(features, labels, batch_size, is_train=True):\n",
    "    dataset = data.TensorDataset(features, labels)\n",
    "    return data.DataLoader(dataset, batch_size, shuffle=is_train)"
   ]
  },
  {
   "cell_type": "code",
   "execution_count": 267,
   "id": "6ffaff48",
   "metadata": {},
   "outputs": [],
   "source": [
    "data_iter = load_array(features, labels, 10)"
   ]
  },
  {
   "cell_type": "code",
   "execution_count": 268,
   "id": "cfe27b89",
   "metadata": {},
   "outputs": [],
   "source": [
    "net = nn.Sequential(nn.Linear(2, 1))"
   ]
  },
  {
   "cell_type": "code",
   "execution_count": 269,
   "id": "3fa5a7b0",
   "metadata": {},
   "outputs": [
    {
     "data": {
      "text/plain": [
       "tensor([0.])"
      ]
     },
     "execution_count": 269,
     "metadata": {},
     "output_type": "execute_result"
    }
   ],
   "source": [
    "net[0].weight.data.normal_(0, 0.01)\n",
    "net[0].bias.data.fill_(0)"
   ]
  },
  {
   "cell_type": "code",
   "execution_count": 270,
   "id": "a4b3e2c5",
   "metadata": {},
   "outputs": [],
   "source": [
    "loss = nn.MSELoss()"
   ]
  },
  {
   "cell_type": "code",
   "execution_count": 271,
   "id": "077ff675",
   "metadata": {},
   "outputs": [],
   "source": [
    "trainer = torch.optim.SGD(net.parameters(), lr=0.03)"
   ]
  },
  {
   "cell_type": "code",
   "execution_count": 275,
   "id": "6a067f87",
   "metadata": {},
   "outputs": [
    {
     "name": "stdout",
     "output_type": "stream",
     "text": [
      "epoch 0, loss0.000105\n",
      "epoch 1, loss0.000104\n",
      "epoch 2, loss0.000105\n"
     ]
    }
   ],
   "source": [
    "num_epochs = 3\n",
    "for epoch in range(num_epochs):\n",
    "    for X, y in data_iter:\n",
    "        l = loss(net(X), y)\n",
    "        trainer.zero_grad()\n",
    "        l.backward()\n",
    "        trainer.step()\n",
    "    l = loss(net(features), labels)\n",
    "    print(f\"epoch {epoch}, loss{l:f}\")"
   ]
  }
 ],
 "metadata": {
  "kernelspec": {
   "display_name": "Python 3",
   "language": "python",
   "name": "python3"
  },
  "language_info": {
   "codemirror_mode": {
    "name": "ipython",
    "version": 3
   },
   "file_extension": ".py",
   "mimetype": "text/x-python",
   "name": "python",
   "nbconvert_exporter": "python",
   "pygments_lexer": "ipython3",
   "version": "3.6.13"
  }
 },
 "nbformat": 4,
 "nbformat_minor": 5
}
